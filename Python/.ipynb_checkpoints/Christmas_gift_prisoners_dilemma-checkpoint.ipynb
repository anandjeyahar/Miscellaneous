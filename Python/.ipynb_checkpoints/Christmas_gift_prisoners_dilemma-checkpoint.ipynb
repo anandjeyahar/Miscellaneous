{
 "cells": [
  {
   "cell_type": "code",
   "execution_count": 1,
   "metadata": {
    "collapsed": false
   },
   "outputs": [
    {
     "ename": "ImportError",
     "evalue": "No module named axelrod",
     "output_type": "error",
     "traceback": [
      "\u001b[1;31m---------------------------------------------------------------------------\u001b[0m",
      "\u001b[1;31mImportError\u001b[0m                               Traceback (most recent call last)",
      "\u001b[1;32m<ipython-input-1-416694d03adb>\u001b[0m in \u001b[0;36m<module>\u001b[1;34m()\u001b[0m\n\u001b[1;32m----> 1\u001b[1;33m \u001b[1;32mimport\u001b[0m \u001b[0maxelrod\u001b[0m \u001b[1;32mas\u001b[0m \u001b[0maxl\u001b[0m\u001b[1;33m\u001b[0m\u001b[0m\n\u001b[0m\u001b[0;32m      2\u001b[0m \u001b[0malex\u001b[0m\u001b[1;33m,\u001b[0m \u001b[0mcamille\u001b[0m \u001b[1;33m=\u001b[0m \u001b[0maxl\u001b[0m\u001b[1;33m.\u001b[0m\u001b[0mAlternator\u001b[0m\u001b[1;33m(\u001b[0m\u001b[1;33m)\u001b[0m\u001b[1;33m,\u001b[0m \u001b[0maxl\u001b[0m\u001b[1;33m.\u001b[0m\u001b[0mTitForTat\u001b[0m\u001b[1;33m(\u001b[0m\u001b[1;33m)\u001b[0m\u001b[1;33m\u001b[0m\u001b[0m\n\u001b[0;32m      3\u001b[0m \u001b[0mmatch\u001b[0m \u001b[1;33m=\u001b[0m \u001b[0maxl\u001b[0m\u001b[1;33m.\u001b[0m\u001b[0mMatch\u001b[0m\u001b[1;33m(\u001b[0m\u001b[1;33m[\u001b[0m\u001b[0malex\u001b[0m\u001b[1;33m,\u001b[0m \u001b[0mcamille\u001b[0m\u001b[1;33m]\u001b[0m\u001b[1;33m,\u001b[0m \u001b[1;36m10\u001b[0m\u001b[1;33m)\u001b[0m\u001b[1;33m\u001b[0m\u001b[0m\n\u001b[0;32m      4\u001b[0m \u001b[0m_\u001b[0m \u001b[1;33m=\u001b[0m \u001b[0mmatch\u001b[0m\u001b[1;33m.\u001b[0m\u001b[0mplay\u001b[0m\u001b[1;33m(\u001b[0m\u001b[1;33m)\u001b[0m\u001b[1;33m\u001b[0m\u001b[0m\n\u001b[0;32m      5\u001b[0m \u001b[1;32mprint\u001b[0m\u001b[1;33m(\u001b[0m\u001b[0mmatch\u001b[0m\u001b[1;33m.\u001b[0m\u001b[0msparklines\u001b[0m\u001b[1;33m(\u001b[0m\u001b[0mc_symbol\u001b[0m\u001b[1;33m=\u001b[0m\u001b[1;34m'😀'\u001b[0m\u001b[1;33m,\u001b[0m \u001b[0md_symbol\u001b[0m\u001b[1;33m=\u001b[0m\u001b[1;34m'🎁'\u001b[0m\u001b[1;33m)\u001b[0m\u001b[1;33m)\u001b[0m\u001b[1;33m\u001b[0m\u001b[0m\n",
      "\u001b[1;31mImportError\u001b[0m: No module named axelrod"
     ]
    }
   ],
   "source": [
    "import axelrod as axl\n",
    "alex, camille = axl.Alternator(), axl.TitForTat()\n",
    "match = axl.Match([alex, camille], 10)\n",
    "_ = match.play()\n",
    "print(match.sparklines(c_symbol='😀', d_symbol='🎁'))"
   ]
  },
  {
   "cell_type": "code",
   "execution_count": null,
   "metadata": {
    "collapsed": true
   },
   "outputs": [],
   "source": [
    "family = [axl.Cooperator(),\n",
    "...           axl.Defector(),\n",
    "...           axl.Alternator(),\n",
    "...           axl.TitForTat(),\n",
    "...           axl.TwoTitsForTat(),\n",
    "...           axl.Grudger()]\n",
    "christmas = axl.Tournament(family, turns=50, repetitions=1)\n",
    "results = christmas.play()\n",
    "results.scores\n",
    "    "
   ]
  }
 ],
 "metadata": {
  "kernelspec": {
   "display_name": "Python 2",
   "language": "python",
   "name": "python2"
  },
  "language_info": {
   "codemirror_mode": {
    "name": "ipython",
    "version": 2
   },
   "file_extension": ".py",
   "mimetype": "text/x-python",
   "name": "python",
   "nbconvert_exporter": "python",
   "pygments_lexer": "ipython2",
   "version": "2.7.6"
  }
 },
 "nbformat": 4,
 "nbformat_minor": 0
}
