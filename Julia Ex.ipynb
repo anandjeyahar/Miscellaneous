{
 "cells": [
  {
   "cell_type": "code",
   "execution_count": 1,
   "metadata": {
    "ExecuteTime": {
     "end_time": "2017-12-13T10:27:46.487645Z",
     "start_time": "2017-12-13T10:27:45.440Z"
    }
   },
   "outputs": [
    {
     "data": {
      "text/plain": [
       "randmatstat (generic function with 1 method)"
      ]
     },
     "execution_count": 1,
     "metadata": {},
     "output_type": "execute_result"
    }
   ],
   "source": [
    "function mandel(z)\n",
    "    c = z\n",
    "    maxiter = 80\n",
    "    for n = 1:maxiter\n",
    "        if abs2(z) > 4\n",
    "            return n-1\n",
    "        end\n",
    "        z = z^2 + c\n",
    "    end\n",
    "    return maxiter\n",
    "end\n",
    "\n",
    "function randmatstat(t)\n",
    "    n = 5\n",
    "    v = zeros(t)\n",
    "    w = zeros(t)\n",
    "    for i = 1:t\n",
    "        a = randn(n,n)\n",
    "        b = randn(n,n)\n",
    "        c = randn(n,n)\n",
    "        d = randn(n,n)\n",
    "        P = [a b c d]\n",
    "        Q = [a b; c d]\n",
    "        v[i] = trace((P.'*P)^4)\n",
    "        w[i] = trace((Q.'*Q)^4)\n",
    "    end\n",
    "    std(v)/mean(v), std(w)/mean(w)\n",
    "end"
   ]
  },
  {
   "cell_type": "code",
   "execution_count": 1,
   "metadata": {
    "ExecuteTime": {
     "end_time": "2017-12-13T16:59:12.902608Z",
     "start_time": "2017-12-13T16:59:07.991Z"
    }
   },
   "outputs": [
    {
     "data": {
      "text/plain": [
       "50002725"
      ]
     },
     "execution_count": 1,
     "metadata": {},
     "output_type": "execute_result"
    }
   ],
   "source": [
    "nheads = @parallel (+) for i=1:100000000\n",
    "  rand(Bool)\n",
    "end"
   ]
  }
 ],
 "metadata": {
  "kernelspec": {
   "display_name": "Julia 0.4.7",
   "language": "julia",
   "name": "julia-0.4"
  },
  "language_info": {
   "file_extension": ".jl",
   "mimetype": "application/julia",
   "name": "julia",
   "version": "0.4.7"
  }
 },
 "nbformat": 4,
 "nbformat_minor": 2
}
